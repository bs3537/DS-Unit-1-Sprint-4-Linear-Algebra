{
  "nbformat": 4,
  "nbformat_minor": 0,
  "metadata": {
    "colab": {
      "name": "Dec4_Prelim_FINAL_augmented IPF images plus normal CT_Keras_VGG16+NN.ipynb",
      "provenance": [],
      "collapsed_sections": [],
      "include_colab_link": true
    },
    "kernelspec": {
      "name": "python3",
      "display_name": "Python 3"
    },
    "accelerator": "GPU"
  },
  "cells": [
    {
      "cell_type": "markdown",
      "metadata": {
        "id": "view-in-github",
        "colab_type": "text"
      },
      "source": [
        "<a href=\"https://colab.research.google.com/github/bs3537/DS-Unit-1-Sprint-4-Linear-Algebra/blob/master/Dec4_Prelim_FINAL_augmented_IPF_images_plus_normal_CT_Keras_VGG16%2BNN.ipynb\" target=\"_parent\"><img src=\"https://colab.research.google.com/assets/colab-badge.svg\" alt=\"Open In Colab\"/></a>"
      ]
    },
    {
      "cell_type": "code",
      "metadata": {
        "id": "hR0uXMG_Txpj",
        "colab_type": "code",
        "outputId": "895b7f39-b72f-4b67-d36a-f9043facd458",
        "colab": {
          "base_uri": "https://localhost:8080/",
          "height": 83
        }
      },
      "source": [
        "import pandas as pd\n",
        "import numpy as np \n",
        "import itertools\n",
        "import keras\n",
        "from sklearn import metrics\n",
        "from sklearn.model_selection import train_test_split\n",
        "from sklearn.metrics import confusion_matrix\n",
        "from keras.preprocessing.image import ImageDataGenerator, img_to_array, load_img \n",
        "from keras.models import Sequential \n",
        "from keras import optimizers\n",
        "from keras.preprocessing import image\n",
        "from keras.layers import Dropout, Flatten, Dense \n",
        "from keras import applications \n",
        "from keras.utils.np_utils import to_categorical \n",
        "import matplotlib.pyplot as plt \n",
        "import matplotlib.image as mpimg\n",
        "%matplotlib inline\n",
        "import math \n",
        "import datetime\n",
        "import time"
      ],
      "execution_count": 1,
      "outputs": [
        {
          "output_type": "stream",
          "text": [
            "Using TensorFlow backend.\n"
          ],
          "name": "stderr"
        },
        {
          "output_type": "display_data",
          "data": {
            "text/html": [
              "<p style=\"color: red;\">\n",
              "The default version of TensorFlow in Colab will soon switch to TensorFlow 2.x.<br>\n",
              "We recommend you <a href=\"https://www.tensorflow.org/guide/migrate\" target=\"_blank\">upgrade</a> now \n",
              "or ensure your notebook will continue to use TensorFlow 1.x via the <code>%tensorflow_version 1.x</code> magic:\n",
              "<a href=\"https://colab.research.google.com/notebooks/tensorflow_version.ipynb\" target=\"_blank\">more info</a>.</p>\n"
            ],
            "text/plain": [
              "<IPython.core.display.HTML object>"
            ]
          },
          "metadata": {
            "tags": []
          }
        }
      ]
    },
    {
      "cell_type": "code",
      "metadata": {
        "id": "ay_Lt1w-Se5e",
        "colab_type": "code",
        "colab": {}
      },
      "source": [
        "%%capture\n",
        "import sys\n"
      ],
      "execution_count": 0,
      "outputs": []
    },
    {
      "cell_type": "code",
      "metadata": {
        "id": "wyEcvumRTkCV",
        "colab_type": "code",
        "colab": {
          "base_uri": "https://localhost:8080/",
          "height": 35
        },
        "outputId": "db30ca9d-fceb-4e11-e3a6-176c64cb138e"
      },
      "source": [
        "from google.colab import drive\n",
        "drive.mount('/content/drive')"
      ],
      "execution_count": 3,
      "outputs": [
        {
          "output_type": "stream",
          "text": [
            "Drive already mounted at /content/drive; to attempt to forcibly remount, call drive.mount(\"/content/drive\", force_remount=True).\n"
          ],
          "name": "stdout"
        }
      ]
    },
    {
      "cell_type": "code",
      "metadata": {
        "id": "ojHzOla-ZaV5",
        "colab_type": "code",
        "colab": {}
      },
      "source": [
        "train_data_dir = ('/content/drive/My Drive/Dec 1 2019 keras ipf ct data/Train')\n",
        "validation_data_dir = ('/content/drive/My Drive/Dec 1 2019 keras ipf ct data/Test')"
      ],
      "execution_count": 0,
      "outputs": []
    },
    {
      "cell_type": "code",
      "metadata": {
        "id": "Ebi4CiL_UIfa",
        "colab_type": "code",
        "colab": {}
      },
      "source": [
        "#Default dimensions of image\n",
        "img_width, img_height = 224, 224 \n",
        " \n",
        "#Create a bottleneck file\n",
        "top_model_weights_path = 'bottleneck_fc_model.h5'\n",
        "# loading up our datasets\n",
        "\n",
        "#test_data_dir = 'data/test'\n",
        " \n",
        "# number of epochs to train top model \n",
        "epochs = 10 #this has been changed after multiple model run \n",
        "# batch size used by flow_from_directory and predict_generator \n",
        "batch_size = 32"
      ],
      "execution_count": 0,
      "outputs": []
    },
    {
      "cell_type": "code",
      "metadata": {
        "id": "HmuGuJuJWnqH",
        "colab_type": "code",
        "colab": {}
      },
      "source": [
        "#Loading vgg16 model for feature extraction from image files\n",
        "from keras import applications\n",
        "vgg16 = applications.VGG16(include_top=False, weights='imagenet', input_shape=(224,224,3))\n",
        "from keras.preprocessing.image import ImageDataGenerator\n",
        "datagen = ImageDataGenerator(rescale=1. / 255) \n",
        "#needed to create the bottleneck .npy files"
      ],
      "execution_count": 0,
      "outputs": []
    },
    {
      "cell_type": "code",
      "metadata": {
        "id": "PgRuNxCaX5ox",
        "colab_type": "code",
        "outputId": "7471ee90-9406-4107-b61b-a1e296605631",
        "colab": {
          "base_uri": "https://localhost:8080/",
          "height": 72
        }
      },
      "source": [
        "#feature extraction\n",
        "\n",
        "import datetime\n",
        "import numpy as np\n",
        "import math\n",
        "start = datetime.datetime.now()\n",
        " \n",
        "generator = datagen.flow_from_directory( \n",
        "    train_data_dir, \n",
        "    target_size=(224, 224), \n",
        "    batch_size=batch_size, \n",
        "    class_mode='categorical', \n",
        "    shuffle=False) \n",
        " \n",
        "\n",
        "generator2 = datagen.flow_from_directory( \n",
        "    validation_data_dir, \n",
        "    target_size=(224, 224), \n",
        "    batch_size=batch_size, \n",
        "    class_mode='categorical', \n",
        "    shuffle=False) \n",
        "nb_train_samples = len(generator.filenames) \n",
        "num_classes = len(generator.class_indices) \n",
        "nb_validation_samples = len(generator2.filenames) \n",
        "num_classes = len(generator.class_indices)  \n",
        "predict_size_train = int(math.ceil(nb_train_samples / batch_size)) \n",
        "predict_size_validation = int(math.ceil(nb_validation_samples / batch_size)) \n",
        "bottleneck_features_train = vgg16.predict_generator(generator, predict_size_train) \n",
        "bottleneck_features_validation = vgg16.predict_generator(generator2, predict_size_validation) \n",
        "np.save('bottleneck_features_train.npy', bottleneck_features_train)\n",
        " \n",
        "np.save('bottleneck_features_validation.npy', bottleneck_features_validation)\n",
        "end= datetime.datetime.now()\n",
        "elapsed= end-start\n",
        "print (\"Time: \", elapsed)"
      ],
      "execution_count": 15,
      "outputs": [
        {
          "output_type": "stream",
          "text": [
            "Found 651 images belonging to 2 classes.\n",
            "Found 267 images belonging to 2 classes.\n",
            "Time:  0:00:08.994283\n"
          ],
          "name": "stdout"
        }
      ]
    },
    {
      "cell_type": "code",
      "metadata": {
        "id": "dwtph7kwghIa",
        "colab_type": "code",
        "outputId": "79a9170e-8d1b-4f95-92e3-9757fadbc0e4",
        "colab": {
          "base_uri": "https://localhost:8080/",
          "height": 35
        }
      },
      "source": [
        "#training data\n",
        "generator_top = datagen.flow_from_directory( \n",
        "   train_data_dir, \n",
        "   target_size=(224, 224), \n",
        "   batch_size=batch_size, \n",
        "   class_mode='categorical', \n",
        "   shuffle=False) \n",
        " \n",
        "nb_train_samples = len(generator_top.filenames) \n",
        "num_classes = len(generator_top.class_indices) \n",
        " \n",
        "# load the bottleneck features saved earlier \n",
        "train_data = np.load('bottleneck_features_train.npy') \n",
        " \n",
        "# get the class labels for the training data, in the original order \n",
        "train_labels = generator_top.classes \n",
        " \n",
        "# convert the training labels to categorical vectors \n",
        "train_labels = to_categorical(train_labels, num_classes=num_classes)"
      ],
      "execution_count": 16,
      "outputs": [
        {
          "output_type": "stream",
          "text": [
            "Found 651 images belonging to 2 classes.\n"
          ],
          "name": "stdout"
        }
      ]
    },
    {
      "cell_type": "code",
      "metadata": {
        "id": "Gn90QoragjwY",
        "colab_type": "code",
        "outputId": "e659a087-0803-4164-e758-81ad7d99617d",
        "colab": {
          "base_uri": "https://localhost:8080/",
          "height": 35
        }
      },
      "source": [
        "#validation data\n",
        "\n",
        "generator_top = datagen.flow_from_directory( \n",
        "   validation_data_dir, \n",
        "   target_size=(224, 224), \n",
        "   batch_size=batch_size, \n",
        "   class_mode='categorical', \n",
        "   shuffle=False) \n",
        " \n",
        "nb_validation_samples = len(generator_top.filenames) \n",
        "num_classes = len(generator_top.class_indices) \n",
        " \n",
        "# load the bottleneck features saved earlier \n",
        "validation_data = np.load('bottleneck_features_validation.npy') \n",
        " \n",
        "# get the class labels for the training data, in the original order \n",
        "validation_labels = generator_top.classes \n",
        " \n",
        "# convert the training labels to categorical vectors \n",
        "validation_labels = to_categorical(validation_labels, num_classes=num_classes)"
      ],
      "execution_count": 17,
      "outputs": [
        {
          "output_type": "stream",
          "text": [
            "Found 267 images belonging to 2 classes.\n"
          ],
          "name": "stdout"
        }
      ]
    },
    {
      "cell_type": "code",
      "metadata": {
        "id": "traCAY7DL9AW",
        "colab_type": "code",
        "colab": {}
      },
      "source": [
        "#Neural network Model\n",
        "start = datetime.datetime.now()\n",
        "model = Sequential() \n",
        "model.add(Flatten(input_shape=train_data.shape[1:])) \n",
        "model.add(Dense(200, activation='relu'))\n",
        "model.add(Dropout(0.5)) \n",
        "model.add(Dense(75, activation='relu'))\n",
        "model.add(Dropout(0.3)) \n",
        "model.add(Dense(num_classes, activation='softmax'))"
      ],
      "execution_count": 0,
      "outputs": []
    },
    {
      "cell_type": "code",
      "metadata": {
        "id": "MDgAfTEAGPiO",
        "colab_type": "code",
        "outputId": "fa6fae94-3b38-4a4c-f0c5-26c0a33076c5",
        "colab": {
          "base_uri": "https://localhost:8080/",
          "height": 381
        }
      },
      "source": [
        "model.summary()"
      ],
      "execution_count": 19,
      "outputs": [
        {
          "output_type": "stream",
          "text": [
            "Model: \"sequential_2\"\n",
            "_________________________________________________________________\n",
            "Layer (type)                 Output Shape              Param #   \n",
            "=================================================================\n",
            "flatten_2 (Flatten)          (None, 25088)             0         \n",
            "_________________________________________________________________\n",
            "dense_4 (Dense)              (None, 200)               5017800   \n",
            "_________________________________________________________________\n",
            "dropout_3 (Dropout)          (None, 200)               0         \n",
            "_________________________________________________________________\n",
            "dense_5 (Dense)              (None, 75)                15075     \n",
            "_________________________________________________________________\n",
            "dropout_4 (Dropout)          (None, 75)                0         \n",
            "_________________________________________________________________\n",
            "dense_6 (Dense)              (None, 2)                 152       \n",
            "=================================================================\n",
            "Total params: 5,033,027\n",
            "Trainable params: 5,033,027\n",
            "Non-trainable params: 0\n",
            "_________________________________________________________________\n"
          ],
          "name": "stdout"
        }
      ]
    },
    {
      "cell_type": "code",
      "metadata": {
        "id": "GoivELBza9mB",
        "colab_type": "code",
        "outputId": "a803fe87-52dc-45b5-cd77-42a626633d35",
        "colab": {
          "base_uri": "https://localhost:8080/",
          "height": 472
        }
      },
      "source": [
        "#train and validate model\n",
        "model.compile(loss='categorical_crossentropy', \n",
        "              optimizer=optimizers.RMSprop(lr=1e-4),\n",
        "              metrics=['acc'])\n",
        "\n",
        "history = model.fit(train_data, train_labels, \n",
        "   epochs=10,\n",
        "   batch_size=batch_size, \n",
        "   validation_data=(validation_data, validation_labels))\n",
        "model.save_weights(top_model_weights_path)\n",
        "(eval_loss, eval_accuracy) = model.evaluate( \n",
        "    validation_data, validation_labels, batch_size=batch_size, verbose=1)\n",
        "print(\"[INFO] accuracy: {:.2f}%\".format(eval_accuracy * 100)) \n",
        "print(\"[INFO] Loss: {}\".format(eval_loss)) \n",
        "end= datetime.datetime.now()\n",
        "elapsed= end-start\n",
        "print (\"Time: \", elapsed)"
      ],
      "execution_count": 20,
      "outputs": [
        {
          "output_type": "stream",
          "text": [
            "Train on 651 samples, validate on 267 samples\n",
            "Epoch 1/10\n",
            "651/651 [==============================] - 1s 1ms/step - loss: 0.5640 - acc: 0.7481 - val_loss: 0.4224 - val_acc: 0.8240\n",
            "Epoch 2/10\n",
            "651/651 [==============================] - 0s 467us/step - loss: 0.2212 - acc: 0.9124 - val_loss: 0.2053 - val_acc: 0.9288\n",
            "Epoch 3/10\n",
            "651/651 [==============================] - 0s 434us/step - loss: 0.1257 - acc: 0.9647 - val_loss: 0.4301 - val_acc: 0.8052\n",
            "Epoch 4/10\n",
            "651/651 [==============================] - 0s 427us/step - loss: 0.0772 - acc: 0.9754 - val_loss: 0.1349 - val_acc: 0.9288\n",
            "Epoch 5/10\n",
            "651/651 [==============================] - 0s 441us/step - loss: 0.0403 - acc: 0.9969 - val_loss: 0.3032 - val_acc: 0.8951\n",
            "Epoch 6/10\n",
            "651/651 [==============================] - 0s 429us/step - loss: 0.0348 - acc: 0.9908 - val_loss: 0.1480 - val_acc: 0.9363\n",
            "Epoch 7/10\n",
            "651/651 [==============================] - 0s 421us/step - loss: 0.0188 - acc: 0.9954 - val_loss: 0.1128 - val_acc: 0.9513\n",
            "Epoch 8/10\n",
            "651/651 [==============================] - 0s 420us/step - loss: 0.0182 - acc: 0.9985 - val_loss: 0.1288 - val_acc: 0.9363\n",
            "Epoch 9/10\n",
            "651/651 [==============================] - 0s 419us/step - loss: 0.0132 - acc: 0.9969 - val_loss: 0.0989 - val_acc: 0.9551\n",
            "Epoch 10/10\n",
            "651/651 [==============================] - 0s 415us/step - loss: 0.0145 - acc: 0.9969 - val_loss: 0.1372 - val_acc: 0.9476\n",
            "267/267 [==============================] - 0s 130us/step\n",
            "[INFO] accuracy: 94.76%\n",
            "[INFO] Loss: 0.1372353792866807\n",
            "Time:  0:00:10.646242\n"
          ],
          "name": "stdout"
        }
      ]
    },
    {
      "cell_type": "code",
      "metadata": {
        "id": "HBkIySpviMmx",
        "colab_type": "code",
        "outputId": "6e9d6c83-117a-4196-e5df-c66c52cc924b",
        "colab": {
          "base_uri": "https://localhost:8080/",
          "height": 573
        }
      },
      "source": [
        "#Graphing our training and validation\n",
        "acc = history.history['acc']\n",
        "val_acc = history.history['val_acc']\n",
        "loss = history.history['loss']\n",
        "val_loss = history.history['val_loss']\n",
        "epochs = range(len(acc))\n",
        "plt.plot(epochs, acc, 'r', label='Training acc')\n",
        "plt.plot(epochs, val_acc, 'b', label='Validation acc')\n",
        "plt.title(\"Training and validation accuracy\")\n",
        "plt.ylabel(\"accuracy\") \n",
        "plt.xlabel(\"epoch\")\n",
        "plt.legend()\n",
        "plt.figure()\n",
        "plt.plot(epochs, loss, 'r', label=\"Training loss\")\n",
        "plt.plot(epochs, val_loss, 'b', label=\"Validation loss\")\n",
        "plt.title(\"Training and validation loss\")\n",
        "plt.ylabel(\"loss\") \n",
        "plt.xlabel(\"epoch\")\n",
        "plt.legend()\n",
        "plt.show()"
      ],
      "execution_count": 21,
      "outputs": [
        {
          "output_type": "display_data",
          "data": {
            "image/png": "[encoded data removed]",
            "text/plain": [
              "<Figure size 432x288 with 1 Axes>"
            ]
          },
          "metadata": {
            "tags": []
          }
        },
        {
          "output_type": "display_data",
          "data": {
            "image/png": "[encoded data removed]",
            "text/plain": [
              "<Figure size 432x288 with 1 Axes>"
            ]
          },
          "metadata": {
            "tags": []
          }
        }
      ]
    }
  ]
}